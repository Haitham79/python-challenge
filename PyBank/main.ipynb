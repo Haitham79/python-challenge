{
 "cells": [
  {
   "cell_type": "code",
   "execution_count": 1,
   "id": "2fdccda1",
   "metadata": {},
   "outputs": [],
   "source": [
    "import csv"
   ]
  },
  {
   "cell_type": "code",
   "execution_count": 2,
   "id": "3da00175",
   "metadata": {},
   "outputs": [],
   "source": [
    "import os"
   ]
  },
  {
   "cell_type": "code",
   "execution_count": 3,
   "id": "80913b64",
   "metadata": {},
   "outputs": [],
   "source": [
    "with open(r\"C:\\Users\\Owner\\Desktop\\PyBank\\Resources\\budget_data.csv\", 'r') as file:\n",
    "    csvreader = csv.reader(file)\n",
    "    date=[]\n",
    "    profitLosses=[]\n",
    "    \n",
    "    for line in csvreader:\n",
    "        date.append(line[0])\n",
    "        profitLosses.append(line[1])"
   ]
  },
  {
   "cell_type": "code",
   "execution_count": 4,
   "id": "f58d25e1",
   "metadata": {},
   "outputs": [
    {
     "name": "stdout",
     "output_type": "stream",
     "text": [
      "number of monthes: 86\n"
     ]
    }
   ],
   "source": [
    "numberOfMonthes = len(date)-1\n",
    "print(\"number of monthes: \" + str(numberOfMonthes))"
   ]
  },
  {
   "cell_type": "code",
   "execution_count": 5,
   "id": "ed0a7140",
   "metadata": {},
   "outputs": [],
   "source": [
    "totalProfitLosses=0\n",
    "for i in range(1, len(profitLosses)):\n",
    "    totalProfitLosses = totalProfitLosses + int(float(profitLosses[i]))"
   ]
  },
  {
   "cell_type": "code",
   "execution_count": 6,
   "id": "f6554fa2",
   "metadata": {},
   "outputs": [
    {
     "name": "stdout",
     "output_type": "stream",
     "text": [
      "Total Profit/Losses: 22564198\n"
     ]
    }
   ],
   "source": [
    "print(\"Total Profit/Losses: \" + str(totalProfitLosses))"
   ]
  },
  {
   "cell_type": "code",
   "execution_count": 7,
   "id": "103cf68c",
   "metadata": {},
   "outputs": [],
   "source": [
    "ChangeProfitLosses=[]\n",
    "for j in range(2,len(profitLosses)):\n",
    "    ChangeProfitLosses.append(float(profitLosses[j])-float(profitLosses[j-1]))"
   ]
  },
  {
   "cell_type": "code",
   "execution_count": 8,
   "id": "63c07823",
   "metadata": {},
   "outputs": [],
   "source": [
    "AVG_ChangeProfitLosses=sum(ChangeProfitLosses)/len(ChangeProfitLosses)"
   ]
  },
  {
   "cell_type": "code",
   "execution_count": 9,
   "id": "2ea7a2df",
   "metadata": {},
   "outputs": [
    {
     "name": "stdout",
     "output_type": "stream",
     "text": [
      "Average Change: -8311.105882352942\n"
     ]
    }
   ],
   "source": [
    "print(\"Average Change: \" + str(AVG_ChangeProfitLosses))"
   ]
  },
  {
   "cell_type": "code",
   "execution_count": 10,
   "id": "225d0f2e",
   "metadata": {},
   "outputs": [
    {
     "name": "stdout",
     "output_type": "stream",
     "text": [
      "1862002.0 -1825558.0\n"
     ]
    }
   ],
   "source": [
    "maximum_increase=max(ChangeProfitLosses)\n",
    "maximum_decrease=min(ChangeProfitLosses)\n",
    "print(maximum_increase,maximum_decrease)"
   ]
  },
  {
   "cell_type": "code",
   "execution_count": null,
   "id": "f5edd7e1",
   "metadata": {},
   "outputs": [],
   "source": []
  },
  {
   "cell_type": "code",
   "execution_count": 11,
   "id": "c357330d",
   "metadata": {},
   "outputs": [],
   "source": [
    "with open(r\"C:\\Users\\Owner\\Desktop\\PyBank\\Analysis\\analysis.txt\" , \"w\") as writingFile:\n",
    "    writingFile.write(\"Total number of months: \" +  str(numberOfMonthes)+'\\n')\n",
    "    writingFile.write(\"\\n\"+\"Total Profit/Losses: \" + \"$\"+str(totalProfitLosses)+'\\n')\n",
    "    writingFile.write(\"\\n\"+\"Average Change: \" + \"$\"+str(AVG_ChangeProfitLosses)+'\\n')\n",
    "    writingFile.write(\"\\n\"+\"Maximum Increase: \" +\"$\"+str(maximum_increase)+'\\n')\n",
    "    writingFile.write(\"\\n\"+\"Maximum Decrease: \" +\"$\"+str(maximum_decrease)+'\\n')"
   ]
  },
  {
   "cell_type": "code",
   "execution_count": null,
   "id": "da387eb6",
   "metadata": {},
   "outputs": [],
   "source": []
  }
 ],
 "metadata": {
  "kernelspec": {
   "display_name": "Python 3 (ipykernel)",
   "language": "python",
   "name": "python3"
  },
  "language_info": {
   "codemirror_mode": {
    "name": "ipython",
    "version": 3
   },
   "file_extension": ".py",
   "mimetype": "text/x-python",
   "name": "python",
   "nbconvert_exporter": "python",
   "pygments_lexer": "ipython3",
   "version": "3.9.13"
  }
 },
 "nbformat": 4,
 "nbformat_minor": 5
}
